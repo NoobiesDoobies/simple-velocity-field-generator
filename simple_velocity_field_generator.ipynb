{
 "cells": [
  {
   "cell_type": "code",
   "execution_count": 4,
   "metadata": {},
   "outputs": [],
   "source": [
    "import math\n",
    "\n",
    "class TrajectoryPlanner:\n",
    "    def __init__(self):\n",
    "        self.doForceBrake = False\n",
    "        self.doTrajectory = False\n",
    "        self.prevPose = 0\n",
    "        self.xSign = 1\n",
    "\n",
    "    def Phi(self, x):\n",
    "        if x > 0:\n",
    "            return math.exp(-1/x)\n",
    "        return 0\n",
    "\n",
    "    def Theta(self, x):\n",
    "        if x <= 0:\n",
    "            return 0\n",
    "        elif x < 1:\n",
    "            return self.Phi(x) / (self.Phi(x) + self.Phi(1-x))\n",
    "        elif x >= 1:\n",
    "            return 1\n",
    "        return 0\n",
    "\n",
    "    def Lx(self, x, aVal, bVal):\n",
    "        return (x - aVal) / (bVal - aVal)\n",
    "\n",
    "    def interpolation(self, x, lengthX, v0, vMax, allowForceBrake, aRange, bRangeStart, bRangeFinal, errorTol, errorFinalTol):\n",
    "        if allowForceBrake:\n",
    "            if lengthX < x <= (lengthX + errorTol):\n",
    "                self.doForceBrake = True\n",
    "                return 0\n",
    "            else:\n",
    "                self.doForceBrake = False\n",
    "\n",
    "        if lengthX > 0:\n",
    "            if x < 0:\n",
    "                return v0\n",
    "        elif lengthX < 0:\n",
    "            if x > 0:\n",
    "                return -v0\n",
    "\n",
    "        if x > 0:\n",
    "            self.xSign = 1\n",
    "        elif x < 0:\n",
    "            self.xSign = -1\n",
    "\n",
    "        x = abs(x)\n",
    "        lengthX = abs(lengthX)\n",
    "\n",
    "        prevLength = lengthX\n",
    "        lengthX = lengthX - ((bRangeStart + bRangeFinal) / 2.0 - errorTol - aRange)\n",
    "        \n",
    "        return self.xSign * (\n",
    "            ((1 - self.Theta(self.Lx(x, aRange, bRangeStart))) * v0 \n",
    "            + self.Theta(self.Lx(x, aRange, bRangeStart)) * vMax) \n",
    "            - (self.Theta(self.Lx(x - lengthX, aRange, bRangeFinal)) * vMax) \n",
    "            - (self.Theta(self.Lx(x - prevLength - errorFinalTol, aRange, bRangeStart)) * vMax)\n",
    "        )\n",
    "\n",
    "    def checkForceBrake(self):\n",
    "        return self.doForceBrake\n"
   ]
  },
  {
   "cell_type": "code",
   "execution_count": 97,
   "metadata": {},
   "outputs": [],
   "source": [
    "#SimpleTraj1\n",
    "oneDTrajLength_y = -6.15\n",
    "oneDTrajV0_y = 0.25\n",
    "oneDTrajVMax_y = 1.0\n",
    "aRange_y = 0\n",
    "bRangeStart_y = 0.48\n",
    "bRangeFinal_y = 0.5\n",
    "errorTol_y = 10./100.0\n",
    "errorFinalTol_y = 5./100.0\n",
    "delayY_withX = 0\n",
    "oneDTrajLength_x = -3.5\n",
    "oneDTrajV0_x = 0.55\n",
    "oneDTrajVMax_x = 1.0\n",
    "aRange_x = 0\n",
    "bRangeStart_x = 0.48\n",
    "bRangeFinal_x = 0.5\n",
    "errorTol_x = 15./100.0\n",
    "errorFinalTol_x = 5./100.0\n",
    "delayX_withY = 5.155"
   ]
  },
  {
   "cell_type": "code",
   "execution_count": 113,
   "metadata": {},
   "outputs": [],
   "source": [
    "#SimpleTraj2\n",
    "oneDTrajLength_y = -0.9\n",
    "oneDTrajV0_y = 0.25\n",
    "oneDTrajVMax_y = 1.0\n",
    "aRange_y = 0\n",
    "bRangeStart_y = 0.48\n",
    "bRangeFinal_y = 0.5\n",
    "errorTol_y = 10./100.0\n",
    "errorFinalTol_y = 5./100.0\n",
    "delayY_withX = 0\n",
    "\n",
    "oneDTrajLength_x = -3.5\n",
    "oneDTrajV0_x = 0.15\n",
    "oneDTrajVMax_x = 1.0\n",
    "aRange_x = 0\n",
    "bRangeStart_x = 0.48\n",
    "bRangeFinal_x = 0.5\n",
    "errorTol_x = 15./100.0\n",
    "errorFinalTol_x = 5./100.0\n",
    "delayX_withY = 0.0"
   ]
  },
  {
   "cell_type": "code",
   "execution_count": 6,
   "metadata": {},
   "outputs": [],
   "source": [
    "# AccelerateForward\n",
    "oneDTrajLength_y = -2\n",
    "oneDTrajV0_y = 0.25\n",
    "oneDTrajVMax_y = 0.5\n",
    "aRange_y = 0\n",
    "bRangeStart_y = 0.48\n",
    "bRangeFinal_y = 0.5\n",
    "errorTol_y = 10./100.0\n",
    "errorFinalTol_y = 5./100.0\n",
    "delayY_withX = 0\n",
    "\n",
    "oneDTrajLength_x = -3.5\n",
    "oneDTrajV0_x = 0.15\n",
    "oneDTrajVMax_x = 1.0\n",
    "aRange_x = 0\n",
    "bRangeStart_x = 0.48\n",
    "bRangeFinal_x = 0.5\n",
    "errorTol_x = 15./100.0\n",
    "errorFinalTol_x = 5./100.0\n",
    "delayX_withY = 0.0"
   ]
  },
  {
   "cell_type": "code",
   "execution_count": 15,
   "metadata": {},
   "outputs": [
    {
     "data": {
      "text/plain": [
       "0.25"
      ]
     },
     "execution_count": 15,
     "metadata": {},
     "output_type": "execute_result"
    }
   ],
   "source": [
    "import matplotlib.pyplot as plt \n",
    "\n",
    "trajPlan = TrajectoryPlanner()\n",
    "\n",
    "x = []\n",
    "y = []\n",
    "\n",
    "for i in range(0, abs(int(oneDTrajLength_y * 100))):\n",
    "    x.append(-i/100)\n",
    "    y.append(trajPlan.interpolation(-i/100, oneDTrajLength_y, oneDTrajV0_y, oneDTrajVMax_y, True, aRange_y, bRangeStart_y, bRangeFinal_y, errorTol_y, errorFinalTol_y))\n",
    "\n",
    "a = []\n",
    "b = []\n",
    "\n",
    "for i in range(0, abs(int(oneDTrajLength_x * 100))):\n",
    "    a.append(-i/100)\n",
    "    b.append(trajPlan.interpolation(-i/100, oneDTrajLength_x, oneDTrajV0_x, oneDTrajVMax_x, True, aRange_x, bRangeStart_x, bRangeFinal_x, errorTol_x, errorFinalTol_x))\n",
    "\n"
   ]
  },
  {
   "cell_type": "code",
   "execution_count": 10,
   "metadata": {},
   "outputs": [
    {
     "data": {
      "text/plain": [
       "[<matplotlib.lines.Line2D at 0x7f67741122e0>]"
      ]
     },
     "execution_count": 10,
     "metadata": {},
     "output_type": "execute_result"
    },
    {
     "data": {
      "image/png": "[encoded data removed]",
      "text/plain": [
       "<Figure size 640x480 with 1 Axes>"
      ]
     },
     "metadata": {},
     "output_type": "display_data"
    }
   ],
   "source": [
    "# Plot velocity y profile\n",
    "plt.plot(x, y)\n"
   ]
  },
  {
   "cell_type": "code",
   "execution_count": 116,
   "metadata": {},
   "outputs": [
    {
     "data": {
      "text/plain": [
       "[<matplotlib.lines.Line2D at 0x7f904e5e24f0>]"
      ]
     },
     "execution_count": 116,
     "metadata": {},
     "output_type": "execute_result"
    },
    {
     "data": {
      "image/png": "[encoded data removed]",
      "text/plain": [
       "<Figure size 640x480 with 1 Axes>"
      ]
     },
     "metadata": {},
     "output_type": "display_data"
    }
   ],
   "source": [
    "#Plot velocity x profile\n",
    "plt.plot(a,b)"
   ]
  },
  {
   "cell_type": "code",
   "execution_count": null,
   "metadata": {},
   "outputs": [],
   "source": []
  }
 ],
 "metadata": {
  "kernelspec": {
   "display_name": "Python 3",
   "language": "python",
   "name": "python3"
  },
  "language_info": {
   "codemirror_mode": {
    "name": "ipython",
    "version": 3
   },
   "file_extension": ".py",
   "mimetype": "text/x-python",
   "name": "python",
   "nbconvert_exporter": "python",
   "pygments_lexer": "ipython3",
   "version": "3.8.10"
  }
 },
 "nbformat": 4,
 "nbformat_minor": 2
}
